{
 "cells": [
  {
   "cell_type": "code",
   "execution_count": 1,
   "metadata": {},
   "outputs": [],
   "source": [
    "%load_ext autoreload\n",
    "%autoreload 2"
   ]
  },
  {
   "cell_type": "code",
   "execution_count": 2,
   "metadata": {},
   "outputs": [],
   "source": [
    "import open3d as o3d"
   ]
  },
  {
   "cell_type": "code",
   "execution_count": 3,
   "metadata": {},
   "outputs": [],
   "source": [
    "import os.path as osp\n",
    "import os\n",
    "import sys\n",
    "sys.path.append('/Users/zhifanzhu/Desktop/repos/build_epic_kitchens_3dmap/hovering')\n",
    "sys.path.append('..')"
   ]
  },
  {
   "cell_type": "code",
   "execution_count": 4,
   "metadata": {},
   "outputs": [],
   "source": [
    "from lib.base_type import ColmapModel"
   ]
  },
  {
   "cell_type": "code",
   "execution_count": 5,
   "metadata": {},
   "outputs": [],
   "source": [
    "# model = ColmapModel('/Users/zhifanzhu/Desktop/P34_104_dense')\n",
    "model = ColmapModel('/Users/zhifanzhu/Desktop/P02_109_sparse')"
   ]
  },
  {
   "cell_type": "code",
   "execution_count": 7,
   "metadata": {},
   "outputs": [],
   "source": [
    "pcd_np = [v.xyz for v in model.points.values()]\n",
    "pcd_rgb = [v.rgb / 255 for v in model.points.values()]\n",
    "pcd = o3d.geometry.PointCloud()\n",
    "pcd.points = o3d.utility.Vector3dVector(pcd_np)\n",
    "pcd.colors = o3d.utility.Vector3dVector(pcd_rgb)\n",
    "\n",
    "# o3d.visualization.draw_geometries([pcd])"
   ]
  },
  {
   "cell_type": "code",
   "execution_count": 12,
   "metadata": {},
   "outputs": [],
   "source": [
    "vis = o3d.visualization.Visualizer()\n",
    "vis.create_window(visible=False)\n",
    "vis.add_geometry(pcd, reset_bounding_box=True)\n",
    "vis.update_geometry(pcd)\n",
    "vis.poll_events()\n",
    "vis.update_renderer()"
   ]
  },
  {
   "cell_type": "code",
   "execution_count": 15,
   "metadata": {},
   "outputs": [],
   "source": [
    "control = vis.get_view_control()"
   ]
  },
  {
   "cell_type": "code",
   "execution_count": 17,
   "metadata": {},
   "outputs": [],
   "source": [
    "options = vis.get_render_option()"
   ]
  },
  {
   "cell_type": "code",
   "execution_count": 19,
   "metadata": {},
   "outputs": [],
   "source": [
    "options.point_size = 0.1"
   ]
  },
  {
   "cell_type": "code",
   "execution_count": null,
   "metadata": {},
   "outputs": [],
   "source": [
    " vis = o3d.visualization.Visualizer()\n",
    "    vis.create_window(visible=False) #works for me with False, on some systems needs to be true\n",
    "    vis.add_geometry(your_mesh)\n",
    "    vis.update_geometry(your_mesh)\n",
    "    vis.poll_events()\n",
    "    vis.update_renderer()\n",
    "    vis.capture_screen_image(your_png_path)\n",
    "    vis.destroy_window()"
   ]
  },
  {
   "cell_type": "code",
   "execution_count": 13,
   "metadata": {},
   "outputs": [],
   "source": [
    "vis.capture_screen_image('test.png')\n",
    "# vis.destroy_window()"
   ]
  },
  {
   "cell_type": "code",
   "execution_count": 4,
   "metadata": {},
   "outputs": [
    {
     "ename": "",
     "evalue": "",
     "output_type": "error",
     "traceback": [
      "\u001b[1;31mThe Kernel crashed while executing code in the the current cell or a previous cell. Please review the code in the cell(s) to identify a possible cause of the failure. Click <a href='https://aka.ms/vscodeJupyterKernelCrash'>here</a> for more info. View Jupyter <a href='command:jupyter.viewOutput'>log</a> for further details."
     ]
    },
    {
     "ename": "",
     "evalue": "",
     "output_type": "error",
     "traceback": [
      "\u001b[1;31mCanceled future for execute_request message before replies were done"
     ]
    }
   ],
   "source": [
    "# render = o3d.visualization.rendering.OffscreenRenderer(640, 480)"
   ]
  },
  {
   "cell_type": "code",
   "execution_count": null,
   "metadata": {},
   "outputs": [],
   "source": [
    "irender = o3d.visualization.rendering.OffscreenRenderer(640, 480)\n",
    "    model, mat=getModel()\n",
    "    render.scene.set_background([0, 0, 0, 0])\n",
    "    render.scene.add_geometry(\"model\", model, mat)\n",
    "    render.scene.set_lighting(render.scene.LightingProfile.NO_SHADOWS, (0, 0, 0))\n",
    "    render.scene.camera.look_at([0, 0, 0], [0, 10, 0], [0, 0, 1])\n",
    "    img_o3d = render.render_to_image()\n",
    "    o3d.io.write_image(\"mtest2.jpeg\", img_o3d, 9)\n",
    "    img = np.array(img_o3d)\n",
    "    cv2.imshow(\"model\", img)\n",
    "    cv2.waitKey(1"
   ]
  }
 ],
 "metadata": {
  "kernelspec": {
   "display_name": "base",
   "language": "python",
   "name": "python3"
  },
  "language_info": {
   "codemirror_mode": {
    "name": "ipython",
    "version": 3
   },
   "file_extension": ".py",
   "mimetype": "text/x-python",
   "name": "python",
   "nbconvert_exporter": "python",
   "pygments_lexer": "ipython3",
   "version": "3.10.8"
  },
  "orig_nbformat": 4
 },
 "nbformat": 4,
 "nbformat_minor": 2
}
